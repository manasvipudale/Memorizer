{
 "cells": [
  {
   "cell_type": "code",
   "execution_count": 1,
   "id": "40bebc3f",
   "metadata": {},
   "outputs": [
    {
     "name": "stdout",
     "output_type": "stream",
     "text": [
      "Requirement already satisfied: summa in c:\\users\\lenovo\\anaconda3\\lib\\site-packages (1.2.0)\n",
      "Requirement already satisfied: scipy>=0.19 in c:\\users\\lenovo\\anaconda3\\lib\\site-packages (from summa) (1.11.1)\n",
      "Requirement already satisfied: numpy<1.28.0,>=1.21.6 in c:\\users\\lenovo\\anaconda3\\lib\\site-packages (from scipy>=0.19->summa) (1.24.3)\n",
      "Note: you may need to restart the kernel to use updated packages.\n"
     ]
    }
   ],
   "source": [
    "pip install summa\n"
   ]
  },
  {
   "cell_type": "code",
   "execution_count": 2,
   "id": "496de70c",
   "metadata": {},
   "outputs": [
    {
     "name": "stdout",
     "output_type": "stream",
     "text": [
      "- The task of removing inflectional endings only and to return the base dictionary form of a word which is also known as a lemma.\n",
      "- Lemmatization is another technique for reducing words to their normalized form.\n",
      "- English has fairly simple morphology, especially inflectional morphology, and thus it is often possible to ignore this task entirely and simply model all possible forms of a word (e.g., \"open, opens, opened, opening\") as separate words.\n",
      "The task of removing inflectional endings only and to return the base dictionary form of a word which is also known as a lemma.\n",
      "Lemmatization is another technique for reducing words to their normalized form.\n",
      "English has fairly simple morphology, especially inflectional morphology, and thus it is often possible to ignore this task entirely and simply model all possible forms of a word (e.g., \"open, opens, opened, opening\") as separate words.\n"
     ]
    }
   ],
   "source": [
    "from summa import summarizer\n",
    "\n",
    "def summarize_chapter(chapter_text, ratio=0.2):\n",
    "\n",
    "    # Summarize the chapter text using TextRank algorithm\n",
    "    summary = summarizer.summarize(chapter_text, ratio=ratio)\n",
    "\n",
    "    # Split the summary into bullet points\n",
    "    summary_bullet_points = summary.split('\\n')\n",
    "\n",
    "    return summary_bullet_points\n",
    "\n",
    "# Example chapter text (you can replace this with your chapter text)\n",
    "chapter_text = \"\"\"\n",
    "Morphological analysis\n",
    "Lemmatization\n",
    "The task of removing inflectional endings only and to return the base dictionary form of a word which is also known as a lemma. Lemmatization is another technique for reducing words to their normalized form. But in this case, the transformation actually uses a dictionary to map words to their actual form.[24]\n",
    "Morphological segmentation\n",
    "Separate words into individual morphemes and identify the class of the morphemes. The difficulty of this task depends greatly on the complexity of the morphology (i.e., the structure of words) of the language being considered. English has fairly simple morphology, especially inflectional morphology, and thus it is often possible to ignore this task entirely and simply model all possible forms of a word (e.g., \"open, opens, opened, opening\") as separate words. In languages such as Turkish or Meitei, a highly agglutinated Indian language, however, such an approach is not possible, as each dictionary entry has thousands of possible word forms.[25]\n",
    "Part-of-speech tagging\n",
    "Given a sentence, determine the part of speech (POS) for each word. Many words, especially common ones, can serve as multiple parts of speech. For example, \"book\" can be a noun (\"the book on the table\") or verb (\"to book a flight\"); \"set\" can be a noun, verb or adjective; and \"out\" can be any of at least five different parts of speech.\n",
    "Stemming\n",
    "The process of reducing inflected (or sometimes derived) words to a base form (e.g., \"close\" will be the root for \"closed\", \"closing\", \"close\", \"closer\" etc.). Stemming yields similar results as lemmatization, but does so on grounds of rules, not a dictionary.\n",
    "\"\"\"\n",
    "\n",
    "# Summarize the chapter into bullet points and store in a variable\n",
    "chapter_summary = summarize_chapter(chapter_text)\n",
    "\n",
    "# Print the summarized bullet points\n",
    "for point in chapter_summary:\n",
    "    print(f\"- {point}\")\n",
    "\n",
    "# Store the summary in a variable\n",
    "summary_variable = \"\\n\".join(chapter_summary)\n",
    "\n",
    "# Print the summary variable\n",
    "print(summary_variable)\n"
   ]
  },
  {
   "cell_type": "code",
   "execution_count": 3,
   "id": "5247a380",
   "metadata": {},
   "outputs": [],
   "source": [
    "from PIL import Image, ImageDraw, ImageFont\n",
    "\n",
    "def text_to_image(text, image_path, font_path=None, font_size=40, image_width=1500, image_height=700):\n",
    "    # Create a blank image with white background\n",
    "    img = Image.new('RGB', (image_width, image_height), color=(255, 255, 255))\n",
    "\n",
    "    # Initialize the drawing context\n",
    "    draw = ImageDraw.Draw(img)\n",
    "\n",
    "    # Specify font (optional)\n",
    "    if font_path:\n",
    "        font = ImageFont.truetype(font_path, font_size)\n",
    "    else:\n",
    "        font = ImageFont.load_default()\n",
    "\n",
    "    # Calculate text size and position using textbbox\n",
    "    text_bbox = draw.textbbox((0, 0), text, font=font)\n",
    "    text_width = text_bbox[2] - text_bbox[0]\n",
    "    text_height = text_bbox[3] - text_bbox[1]\n",
    "    text_x = (image_width - text_width) / 2\n",
    "    text_y = (image_height - text_height) / 2\n",
    "\n",
    "    # Draw text on the image\n",
    "    draw.text((text_x, text_y), text, fill=(0, 0, 0), font=font)\n",
    "\n",
    "    # Save the image\n",
    "    img.save(image_path)\n",
    "\n",
    "# Example usage\n",
    "text = summary_variable\n",
    "image_path = \"output_image.png\"\n",
    "font_path = \"arial.ttf\"  # Path to a TrueType font file (optional)\n",
    "text_to_image(text, image_path)\n"
   ]
  },
  {
   "cell_type": "code",
   "execution_count": 4,
   "id": "f46a58dd",
   "metadata": {},
   "outputs": [
    {
     "data": {
      "image/png": "[encoded data removed]",
      "text/plain": [
       "<Figure size 640x480 with 1 Axes>"
      ]
     },
     "metadata": {},
     "output_type": "display_data"
    }
   ],
   "source": [
    "import matplotlib.pyplot as plt\n",
    "from PIL import Image\n",
    "\n",
    "# Load the image\n",
    "image_path = \"output_image.png\"\n",
    "image = Image.open(image_path)\n",
    "\n",
    "# Display the image\n",
    "plt.imshow(image)\n",
    "plt.axis('off')  # Turn off axis\n",
    "plt.show()"
   ]
  },
  {
   "cell_type": "code",
   "execution_count": null,
   "id": "5c208f9c",
   "metadata": {},
   "outputs": [
    {
     "name": "stderr",
     "output_type": "stream",
     "text": [
      "[nltk_data] Downloading package punkt to\n",
      "[nltk_data]     C:\\Users\\Lenovo\\AppData\\Roaming\\nltk_data...\n",
      "[nltk_data]   Package punkt is already up-to-date!\n"
     ]
    },
    {
     "name": "stdout",
     "output_type": "stream",
     "text": [
      "Question 1: \n",
      "Morphological analysis\n",
      "Lemmatization\n",
      "The task of removing inflectional endings only and to return the base dictionary form of a word which is also known as a lemma. (yes/no)\n",
      "Question 2: Stemming yields similar results as lemmatization, but does so on grounds of rules, not a dictionary. (yes/no)\n",
      "Question 3: For example, \"book\" can be a noun (\"the book on the table\") or verb (\"to book a flight\"); \"set\" can be a noun, verb or adjective; and \"out\" can be any of at least five different parts of speech. (yes/no)\n",
      "Question 4: Lemmatization is another technique for reducing words to their normalized form. (yes/no)\n",
      "Question 5: The difficulty of this task depends greatly on the complexity of the morphology (i.e., the structure of words) of the language being considered. (yes/no)\n"
     ]
    }
   ],
   "source": [
    "import nltk\n",
    "import random\n",
    "\n",
    "# Download the punkt tokenizer if not already downloaded\n",
    "nltk.download('punkt')\n",
    "\n",
    "def generate_quiz(text, num_questions=5):\n",
    "    # Tokenize the text into sentences\n",
    "    sentences = nltk.sent_tokenize(text)\n",
    "\n",
    "    # Shuffle the sentences to randomize question selection\n",
    "    random.shuffle(sentences)\n",
    "\n",
    "    # Select a subset of sentences to use as questions\n",
    "    questions = sentences[:num_questions]\n",
    "\n",
    "    # Generate quiz questions\n",
    "    quiz = []\n",
    "    answers = []\n",
    "    for question in questions:\n",
    "        # Format the question\n",
    "        question = question + \" (yes/no)\"\n",
    "        quiz.append(question)\n",
    "        # Store the answer (randomly select yes or no)\n",
    "        answer = random.choice([\"yes\", \"no\"])\n",
    "        answers.append(answer)\n",
    "\n",
    "    return quiz, answers\n",
    "\n",
    "def evaluate_answers(quiz, user_answers):\n",
    "    score = 0\n",
    "    total_questions = len(quiz)\n",
    "\n",
    "    for question, user_answer in zip(quiz, user_answers):\n",
    "        print(question)\n",
    "        # Check if user's answer matches the correct answer\n",
    "        if user_answer.lower() == \"yes\" or user_answer.lower() == \"no\":\n",
    "            print(f\"Your answer: {user_answer}\")\n",
    "            correct_answer = \"yes\" if \"yes\" in question else \"no\"\n",
    "            print(f\"Correct answer: {correct_answer}\")\n",
    "            if user_answer.lower() == correct_answer:\n",
    "                print(\"Correct!\")\n",
    "                score += 1\n",
    "            else:\n",
    "                print(\"Incorrect!\")\n",
    "        else:\n",
    "            print(\"Invalid answer! Please enter 'yes' or 'no'.\")\n",
    "\n",
    "    print(f\"\\nYour score: {score}/{total_questions}\")\n",
    "\n",
    "# Example usage\n",
    "text = chapter_text\n",
    "quiz, answers = generate_quiz(text, num_questions=5)\n",
    "\n",
    "# Print the quiz questions\n",
    "for i, question in enumerate(quiz, start=1):\n",
    "    print(f\"Question {i}: {question}\")\n",
    "\n",
    "# Ask user for answers\n",
    "user_answers = []\n",
    "for i in range(len(quiz)):\n",
    "    user_answer = input(f\"Your answer for Question {i+1}: \").strip()\n",
    "    user_answers.append(user_answer)\n",
    "\n",
    "# Evaluate user's answers\n",
    "print(\"\\nEvaluating answers...\")\n",
    "evaluate_answers(quiz, user_answers)\n"
   ]
  },
  {
   "cell_type": "code",
   "execution_count": null,
   "id": "56cc1031",
   "metadata": {},
   "outputs": [],
   "source": [
    "pip install flask\n"
   ]
  },
  {
   "cell_type": "code",
   "execution_count": null,
   "id": "727b07af",
   "metadata": {},
   "outputs": [],
   "source": []
  }
 ],
 "metadata": {
  "kernelspec": {
   "display_name": "Python 3 (ipykernel)",
   "language": "python",
   "name": "python3"
  },
  "language_info": {
   "codemirror_mode": {
    "name": "ipython",
    "version": 3
   },
   "file_extension": ".py",
   "mimetype": "text/x-python",
   "name": "python",
   "nbconvert_exporter": "python",
   "pygments_lexer": "ipython3",
   "version": "3.11.5"
  }
 },
 "nbformat": 4,
 "nbformat_minor": 5
}
